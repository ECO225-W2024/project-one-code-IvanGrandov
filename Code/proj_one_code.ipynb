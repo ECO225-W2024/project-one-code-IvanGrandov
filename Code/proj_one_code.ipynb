{
 "cells": [
  {
   "cell_type": "markdown",
   "metadata": {},
   "source": [
    "# How do socioeconomic factors affect crime in different neighborhoods in Baltimore?\n",
    "\n",
    "## Introduction\n",
    "This project seeks to explore the complex relationship between socioeconomic factors and crime rates across various neighborhoods in Baltimore. Utilizing data from December 31, 2011, to September 1, 2017, this analysis aims to uncover how variables such as income level, employment status, and education influence the prevalence and types of crimes committed in different areas of the city. Baltimore, with its diverse range of neighborhoods, presents a unique opportunity to examine the socioeconomic underpinnings of crime. By correlating crime data with socioeconomic indicators, this project seeks to provide insights into the patterns and causes of crime, offering a nuanced understanding that can inform policy decisions and interventions. This investigation is grounded in the belief that a deeper understanding of the economic and social conditions contributing to crime can lead to more effective and equitable solutions for enhancing urban safety and community well-being.\n",
    "\n",
    "The dataset used in this project was downloaded from [Kaggle](https://www.kaggle.com/datasets/sohier/crime-in-baltimore/data) and originially sourced from Open Baltimore's database of victim-based crimes. It contains data on every victim-based crime reported in Balitimore from December 31, 2011, to September 1, 2017.\n",
    "\n",
    "For Project One, we do not have access to socioeconomic data, as we are restricted to our one dataset. However, this project will make strides towards answering the broader research question by making observations about the frequency of violent and property crime in urban and suburban neighborhoods of Baltimore.\n",
    "\n",
    "The variables that will be focused on in this project are 'crime_date', 'crime_time', 'crime_type', and 'downtown_status'. 'crime_date' will help analyze how crime rates interact with socioeconomic factors, as it will allow us to compare the crime level and economy conditions at a given point in time. 'crime_type' will allow us to see how socioeconomic factors effect the frequency of violent crime and property crime in different areas. 'downtown_status' will be our proxy for neighborhood, dividing the city into its downtown core (the Central, Western and Eastern) and suburbs. This will allow us to make observations about how socioeconomic factors affect urban and suburban neighborhoods differently.\n",
    "\n",
    "\n"
   ]
  }
 ],
 "metadata": {
  "language_info": {
   "name": "python"
  }
 },
 "nbformat": 4,
 "nbformat_minor": 2
}
