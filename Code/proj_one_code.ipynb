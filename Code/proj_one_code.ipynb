{
 "cells": [
  {
   "cell_type": "markdown",
   "metadata": {},
   "source": [
    "# How do socioeconomic factors affect crime in different neighborhoods in Baltimore?\n",
    "\n",
    "## Introduction\n",
    "This project seeks to explore the complex relationship between socioeconomic factors and crime rates across various neighborhoods in Baltimore. Utilizing data from January 1, 2012, to September 1, 2017, this analysis aims to uncover how variables such as income level, employment status, and education influence the prevalence and types of crimes committed in different areas of the city. Baltimore, with its diverse range of neighborhoods, presents a unique opportunity to examine the socioeconomic underpinnings of crime. By correlating crime data with socioeconomic indicators, this project seeks to provide insights into the patterns and causes of crime, offering a nuanced understanding that can inform policy decisions and interventions. This investigation is grounded in the belief that a deeper understanding of the economic and social conditions contributing to crime can lead to more effective and equitable solutions for enhancing urban safety and community well-being.\n",
    "\n",
    "The dataset used in this project was downloaded from [Kaggle](https://www.kaggle.com/datasets/sohier/crime-in-baltimore/data) and originially sourced from Open Baltimore's database of victim-based crimes. It contains data on every victim-based crime reported in Baltimore from January 1, 2012, to September 1, 2017. Each row contains information on the time, location, and details of a crime.\n",
    "\n",
    "For Project One, we do not have access to socioeconomic data, as we are restricted to our one dataset. However, this project will make strides towards answering the broader research question by making observations about the frequency of violent and property crime in urban and suburban neighborhoods of Baltimore over time.\n",
    "\n",
    "The independent variables in this project are 'CrimeDate' and 'DowntownStatus'. 'CrimeDate' will help analyze how crime rates interact with socioeconomic factors, as it will allow us to compare the crime level and economy conditions at a given point in time. 'Downtown' will be our proxy for neighborhood, dividing the city into its downtown core (the Central, Western and Eastern districts) and the suburbs, using data from the 'District' column. This will allow us to make observations about how socioeconomic factors affect urban and suburban neighborhoods differently.\n",
    "Our dependent variable 'ViolentOrPropCrime' will allow us to see how socioeconomic factors effect the frequency of violent crime and property crime in different areas. This column will be formed based on data from the 'Description' column. In this project, we will be focused on identifying trends in the frequencies of each type of crime."
   ]
  },
  {
   "cell_type": "markdown",
   "metadata": {},
   "source": [
    "## Data Cleaning/Loading"
   ]
  },
  {
   "cell_type": "code",
   "execution_count": 82,
   "metadata": {},
   "outputs": [
    {
     "name": "stdout",
     "output_type": "stream",
     "text": [
      "    CrimeDate CrimeTime CrimeCode           Location          Description  \\\n",
      "0  09/02/2017  23:30:00       3JK    4200 AUDREY AVE  ROBBERY - RESIDENCE   \n",
      "1  09/02/2017  23:00:00        7A  800 NEWINGTON AVE           AUTO THEFT   \n",
      "2  09/02/2017  22:53:00        9S      600 RADNOR AV             SHOOTING   \n",
      "3  09/02/2017  22:50:00        4C     1800 RAMSAY ST         AGG. ASSAULT   \n",
      "4  09/02/2017  22:31:00        4E       100 LIGHT ST       COMMON ASSAULT   \n",
      "\n",
      "  Inside/Outside   Weapon   Post  District      Neighborhood  Longitude  \\\n",
      "0              I    KNIFE  913.0  SOUTHERN          Brooklyn  -76.60541   \n",
      "1              O      NaN  133.0   CENTRAL    Reservoir Hill  -76.63217   \n",
      "2        Outside  FIREARM  524.0  NORTHERN    Winston-Govans  -76.60697   \n",
      "3              I    OTHER  934.0  SOUTHERN  Carrollton Ridge  -76.64526   \n",
      "4              O    HANDS  113.0   CENTRAL     Downtown West  -76.61365   \n",
      "\n",
      "   Latitude                       Location 1     Premise  Total Incidents  \n",
      "0  39.22951  (39.2295100000, -76.6054100000)  ROW/TOWNHO                1  \n",
      "1  39.31360  (39.3136000000, -76.6321700000)      STREET                1  \n",
      "2  39.34768  (39.3476800000, -76.6069700000)      Street                1  \n",
      "3  39.28315  (39.2831500000, -76.6452600000)  ROW/TOWNHO                1  \n",
      "4  39.28756  (39.2875600000, -76.6136500000)      STREET                1  \n"
     ]
    }
   ],
   "source": [
    "# Loading libraries\n",
    "import pandas as pd\n",
    "import numpy as np\n",
    "\n",
    "# Loading in dataset\n",
    "df = pd.read_csv(\"/Users/ivangrandov/Downloads/BPD_Part_1_Victim_Based_Crime_Data.csv\")\n",
    "print(df.head())\n"
   ]
  },
  {
   "cell_type": "code",
   "execution_count": 83,
   "metadata": {},
   "outputs": [
    {
     "data": {
      "text/plain": [
       "CrimeDate      0.000000\n",
       "Description    0.000000\n",
       "District       0.000289\n",
       "Longitude      0.007970\n",
       "Latitude       0.007970\n",
       "dtype: float64"
      ]
     },
     "execution_count": 83,
     "metadata": {},
     "output_type": "execute_result"
    }
   ],
   "source": [
    "# Drop columns we are not focusing on\n",
    "cleaned_df = df.drop(columns=['CrimeTime','CrimeCode','Location','Inside/Outside','Weapon','Post','Neighborhood','Location 1','Premise','Total Incidents'])\n",
    "# Check for missing values\n",
    "cleaned_df.isnull().sum()/len(cleaned_df.index)"
   ]
  },
  {
   "cell_type": "code",
   "execution_count": 84,
   "metadata": {},
   "outputs": [
    {
     "data": {
      "text/plain": [
       "CrimeDate      0\n",
       "Description    0\n",
       "District       0\n",
       "Longitude      0\n",
       "Latitude       0\n",
       "dtype: int64"
      ]
     },
     "execution_count": 84,
     "metadata": {},
     "output_type": "execute_result"
    }
   ],
   "source": [
    "# Drop rows with missing values\n",
    "cleaned_df.dropna(subset=['CrimeDate', 'Description', 'District', 'Longitude', 'Latitude'], inplace=True)\n",
    "cleaned_df.isnull().sum()"
   ]
  },
  {
   "cell_type": "code",
   "execution_count": 85,
   "metadata": {},
   "outputs": [
    {
     "name": "stdout",
     "output_type": "stream",
     "text": [
      "   CrimeDate          Description  District  Longitude  Latitude  \\\n",
      "0 2017-09-02  ROBBERY - RESIDENCE  SOUTHERN  -76.60541  39.22951   \n",
      "1 2017-09-02           AUTO THEFT   CENTRAL  -76.63217  39.31360   \n",
      "2 2017-09-02             SHOOTING  NORTHERN  -76.60697  39.34768   \n",
      "3 2017-09-02         AGG. ASSAULT  SOUTHERN  -76.64526  39.28315   \n",
      "4 2017-09-02       COMMON ASSAULT   CENTRAL  -76.61365  39.28756   \n",
      "\n",
      "  ViolentOrPropCrime DowntownStatus  \n",
      "0            Violent   Not Downtown  \n",
      "1           Property       Downtown  \n",
      "2            Violent   Not Downtown  \n",
      "3            Violent   Not Downtown  \n",
      "4            Violent       Downtown  \n"
     ]
    }
   ],
   "source": [
    "# Make a new column that categorizes crimes into violent or property crimes\n",
    "def categorize_crime(description):\n",
    "    # Define the categories for violent and property crimes\n",
    "    violent_crimes = ['ROBBERY - RESIDENCE', 'SHOOTING', 'AGG. ASSAULT', 'COMMON ASSAULT', 'HOMICIDE', 'ROBBERY - STREET', 'ROBBERY - COMMERCIAL', 'ROBBERY - CARJACKING', 'ASSAULT BY THREAT', 'RAPE']\n",
    "    property_crimes = ['AUTO THEFT', 'BURGLARY', 'LARCENY', 'LARCENY FROM AUTO', 'ARSON']\n",
    "    \n",
    "    # Check and categorize each crime description\n",
    "    if description.upper() in violent_crimes:\n",
    "        return 'Violent'\n",
    "    elif description.upper() in property_crimes:\n",
    "        return 'Property'\n",
    "    else:\n",
    "        return 'Other'  # Use 'Other' for crimes that do not fit into the above categories\n",
    "\n",
    "# Apply the function to each row in the 'Description' column to create the new column\n",
    "cleaned_df['ViolentOrPropCrime'] = cleaned_df['Description'].apply(categorize_crime)\n",
    "\n",
    "# Make a new column that categorizes districts into downtown or not downtown.\n",
    "def categorize_by_location(district):\n",
    "    # Define the downtown districts\n",
    "    downtown_districts = ['CENTRAL', 'WESTERN', 'EASTERN']\n",
    "    if district in downtown_districts:\n",
    "        return 'Downtown'\n",
    "    else:\n",
    "        return 'Not Downtown'\n",
    "\n",
    "# Apply the function to the 'District' column to create a new column 'LocationCategory'\n",
    "cleaned_df['DowntownStatus'] = cleaned_df['District'].apply(categorize_by_location)\n",
    "\n",
    "# Standardize dating system to datetime format\n",
    "cleaned_df['CrimeDate'] = pd.to_datetime(cleaned_df['CrimeDate'])\n",
    "\n",
    "# Check cleaned data\n",
    "print(cleaned_df.head())"
   ]
  },
  {
   "cell_type": "markdown",
   "metadata": {},
   "source": [
    "## Summary Statistics"
   ]
  },
  {
   "cell_type": "code",
   "execution_count": 93,
   "metadata": {},
   "outputs": [
    {
     "name": "stdout",
     "output_type": "stream",
     "text": [
      "       Description      District ViolentOrPropCrime DowntownStatus\n",
      "count       274322        274322             274322         274322\n",
      "unique          15             9                  2              2\n",
      "top        LARCENY  NORTHEASTERN           Property   Not Downtown\n",
      "freq         60093         42709             166280         197421 \n",
      "\n",
      "(274322, 7)\n"
     ]
    }
   ],
   "source": [
    "print(cleaned_df.describe(include=['object']), \"\\n\")\n",
    "print(cleaned_df.shape)"
   ]
  },
  {
   "cell_type": "markdown",
   "metadata": {},
   "source": [
    "From January 1, 2012 to September 2, 2017, the most common crime committed in Baltimore was Larceny with 60093 out of 274322 (~21.9)instances. The district with the most crime was the Northeastern district, with 42709 crimes (~15.6%). The most common type of crime was property crime, with 166280 instances (~60.6%). Most crimes were committed outside of Baltimore's downtown core, with 197421 crimes (~72%) occuring elsewhere in the city."
   ]
  },
  {
   "cell_type": "code",
   "execution_count": 87,
   "metadata": {},
   "outputs": [
    {
     "data": {
      "text/plain": [
       "2015-04-27    410\n",
       "2016-06-05    255\n",
       "2017-01-20    194\n",
       "2016-09-24    192\n",
       "2013-12-20    191\n",
       "             ... \n",
       "2014-03-03     57\n",
       "2015-03-05     54\n",
       "2016-01-24     45\n",
       "2014-02-13     44\n",
       "2016-01-23     33\n",
       "Name: CrimeDate, Length: 2072, dtype: int64"
      ]
     },
     "execution_count": 87,
     "metadata": {},
     "output_type": "execute_result"
    }
   ],
   "source": [
    "# x1 variable (CrimeDate) value count\n",
    "cleaned_df['CrimeDate'].value_counts()"
   ]
  },
  {
   "cell_type": "markdown",
   "metadata": {},
   "source": [
    "We see a huge outlier for crime on April 27, 2015, with a crime rate over 60% higher than the next highest date. A quick Google search led me to a [ABC news article](#https://abcnews.go.com/US/hundreds-people-clash-police-baltimore-mall/story?id=30622868) that mentions massive riots in the city following the killing of Freddie Gray by Baltimore Police Department."
   ]
  },
  {
   "cell_type": "code",
   "execution_count": 88,
   "metadata": {},
   "outputs": [
    {
     "name": "stdout",
     "output_type": "stream",
     "text": [
      "BURGLARY                207\n",
      "AGG. ASSAULT             87\n",
      "AUTO THEFT               31\n",
      "LARCENY                  20\n",
      "LARCENY FROM AUTO        14\n",
      "ROBBERY - COMMERCIAL     13\n",
      "COMMON ASSAULT           11\n",
      "ARSON                    10\n",
      "ROBBERY - STREET          8\n",
      "ROBBERY - CARJACKING      6\n",
      "ROBBERY - RESIDENCE       1\n",
      "RAPE                      1\n",
      "ASSAULT BY THREAT         1\n",
      "Name: Description, dtype: int64 \n",
      "\n",
      "Property    282\n",
      "Violent     128\n",
      "Name: ViolentOrPropCrime, dtype: int64\n"
     ]
    }
   ],
   "source": [
    "# Analysis of crime on April 27, 2015\n",
    "print(cleaned_df[cleaned_df['CrimeDate'] == '2015-04-27']['Description'].value_counts(), \"\\n\")\n",
    "print(cleaned_df[cleaned_df['CrimeDate'] == '2015-04-27']['ViolentOrPropCrime'].value_counts())"
   ]
  },
  {
   "cell_type": "markdown",
   "metadata": {},
   "source": [
    "The majority of crime committed during the Freddie Gray riots on April 27, 2015 were property crimes, and the most common crimes were Burglary and Aggrevated Assault. This is an interesting observation, and can potentially be used in future research using police brutality incidences as a social factor for crime."
   ]
  },
  {
   "cell_type": "code",
   "execution_count": 89,
   "metadata": {},
   "outputs": [
    {
     "data": {
      "text/plain": [
       "count                           274322\n",
       "mean     2014-11-09 03:02:09.684093696\n",
       "min                2012-01-01 00:00:00\n",
       "25%                2013-06-05 00:00:00\n",
       "50%                2014-11-07 00:00:00\n",
       "75%                2016-04-30 00:00:00\n",
       "max                2017-09-02 00:00:00\n",
       "Name: CrimeDate, dtype: object"
      ]
     },
     "execution_count": 89,
     "metadata": {},
     "output_type": "execute_result"
    }
   ],
   "source": [
    "# Statistical distribution of x1 variable (CrimeDate)\n",
    "cleaned_df['CrimeDate'].describe(datetime_is_numeric=True)"
   ]
  },
  {
   "cell_type": "markdown",
   "metadata": {},
   "source": [
    "The mean and median date for crimes in Baltimore over our time period are only two days apart, which tells us that the distribution of crime is not heavily skewed towards the beginning or end of our time period. There are 540 days between the 50th and 75th percentile dates and there are 490 days between the 75th and 100th percentile dates, so crime between November 2014 and September 2017 is slightly skewed towards the end of the range. There are 521 days between the 0th and 25th percentile dates and there are 521 days between the 25th and 50th percentile dates, so crime between January 2012 and November 2014 is not skewed to either the beginning or end of the range."
   ]
  },
  {
   "cell_type": "code",
   "execution_count": 103,
   "metadata": {},
   "outputs": [
    {
     "name": "stdout",
     "output_type": "stream",
     "text": [
      "count                            76901\n",
      "mean     2014-11-01 08:43:44.922952704\n",
      "min                2012-01-01 00:00:00\n",
      "25%                2013-05-19 00:00:00\n",
      "50%                2014-10-31 00:00:00\n",
      "75%                2016-05-01 00:00:00\n",
      "max                2017-09-02 00:00:00\n",
      "Name: CrimeDate, dtype: object \n",
      "\n",
      "count                           197421\n",
      "mean     2014-11-12 03:36:27.943532032\n",
      "min                2012-01-01 00:00:00\n",
      "25%                2013-06-11 00:00:00\n",
      "50%                2014-11-09 00:00:00\n",
      "75%                2016-04-30 00:00:00\n",
      "max                2017-09-02 00:00:00\n",
      "Name: CrimeDate, dtype: object\n"
     ]
    }
   ],
   "source": [
    "# Datetime analysis of x2\n",
    "print(cleaned_df[cleaned_df['DowntownStatus'] == 'Downtown']['CrimeDate'].describe(datetime_is_numeric=True), \"\\n\")\n",
    "print(cleaned_df[cleaned_df['DowntownStatus'] == 'Not Downtown']['CrimeDate'].describe(datetime_is_numeric=True))"
   ]
  },
  {
   "cell_type": "markdown",
   "metadata": {},
   "source": [
    "As mentioned before, over the time period, most crimes were committed outside of Baltimore's downtown core, with 197421 crimes (~72%) occuring elsewhere in the city. The mean and median for downtown crime are only one day apart, so the distribution of crime is not skewed to the beginning or end of the time period. The mean and median for non-downtown crime are only two days apart, so the distribution of crime is not skewed to the beginning or end of the time period."
   ]
  },
  {
   "cell_type": "code",
   "execution_count": 108,
   "metadata": {},
   "outputs": [
    {
     "name": "stdout",
     "output_type": "stream",
     "text": [
      "count        76901\n",
      "unique           2\n",
      "top       Property\n",
      "freq         42850\n",
      "Name: ViolentOrPropCrime, dtype: object \n",
      "\n",
      "count       197421\n",
      "unique           2\n",
      "top       Property\n",
      "freq        123430\n",
      "Name: ViolentOrPropCrime, dtype: object\n"
     ]
    }
   ],
   "source": [
    "# y variable (Description) and x2 variable (Downtown Status) correlation\n",
    "print(cleaned_df[cleaned_df['DowntownStatus'] == 'Downtown']['ViolentOrPropCrime'].describe(), \"\\n\")\n",
    "print(cleaned_df[cleaned_df['DowntownStatus'] == 'Not Downtown']['ViolentOrPropCrime'].describe())"
   ]
  },
  {
   "cell_type": "markdown",
   "metadata": {},
   "source": [
    "The most common type of crime in downtown Baltimore is property crime, with 42850 out of 76901 (~55.7%) crimes being property crimes.\n",
    "The most common type of crime in non-downtwon Baltimore is also property crime, with 123430 out of 197421 (~62.5%) crimes being property crimes.\n",
    "Non-downtown Baltimore has a higher percentage of its crime being property crime than downtown Baltimore. In future research, we will attempt to find explanatory factors for this discrepancy."
   ]
  }
 ],
 "metadata": {
  "kernelspec": {
   "display_name": "base",
   "language": "python",
   "name": "python3"
  },
  "language_info": {
   "codemirror_mode": {
    "name": "ipython",
    "version": 3
   },
   "file_extension": ".py",
   "mimetype": "text/x-python",
   "name": "python",
   "nbconvert_exporter": "python",
   "pygments_lexer": "ipython3",
   "version": "3.10.9"
  }
 },
 "nbformat": 4,
 "nbformat_minor": 2
}
